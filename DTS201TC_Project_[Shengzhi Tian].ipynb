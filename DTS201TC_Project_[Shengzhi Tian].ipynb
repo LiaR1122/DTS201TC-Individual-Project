{
 "cells": [
  {
   "cell_type": "markdown",
   "metadata": {},
   "source": [
    "### DTS201TC \n",
    "#### individual Project"
   ]
  },
  {
   "cell_type": "code",
   "execution_count": 1,
   "metadata": {},
   "outputs": [],
   "source": [
    "import numpy as np\n",
    "import scipy.io\n",
    "import scipy.stats"
   ]
  },
  {
   "cell_type": "markdown",
   "metadata": {},
   "source": [
    "#### Auxiliary functions"
   ]
  },
  {
   "cell_type": "code",
   "execution_count": 2,
   "metadata": {},
   "outputs": [],
   "source": [
    "def log_normpdf(x, mu, sigma):\n",
    "    \"\"\"\n",
    "      Computes the natural logarithm of the normal probability density function\n",
    "  \n",
    "    \"\"\"\n",
    "    prob = scipy.stats.norm(mu, sigma).logpdf(x)\n",
    "    return prob\n"
   ]
  },
  {
   "cell_type": "code",
   "execution_count": 3,
   "metadata": {},
   "outputs": [],
   "source": [
    "class JointParts():\n",
    "    def __init__(self, N_class):\n",
    "        self.means = np.zeros([3,N_class])\n",
    "        self.sigma = np.zeros([3,N_class])\n"
   ]
  },
  {
   "cell_type": "code",
   "execution_count": 4,
   "metadata": {},
   "outputs": [],
   "source": [
    "class Model():\n",
    "    def __init__(self, N_class, N_joints):\n",
    "        self.jointparts = [JointParts(N_class) for i in range(N_joints)]\n",
    "        self.class_priors = {}\n",
    "        "
   ]
  },
  {
   "cell_type": "code",
   "execution_count": 5,
   "metadata": {},
   "outputs": [],
   "source": [
    "def cal_acc(a,b):\n",
    "    \"\"\"\n",
    "       Input\n",
    "           two vectors with same size\n",
    "\n",
    "       Output\n",
    "           accuracy\n",
    "    \"\"\"\n",
    "    \n",
    "    acc = 0.0\n",
    "    for i in range(len(a)):\n",
    "        if(a[i]==b[i]):\n",
    "            acc+=1\n",
    "    acc = acc/len(a)\n",
    "    \n",
    "    return acc"
   ]
  },
  {
   "cell_type": "markdown",
   "metadata": {},
   "source": [
    "#### Functions to implement"
   ]
  },
  {
   "cell_type": "code",
   "execution_count": 6,
   "metadata": {},
   "outputs": [],
   "source": [
    "def fit_model(X):\n",
    "    \"\"\"\n",
    "      Compute the mean and variance of X, \n",
    "    \"\"\"\n",
    "    # TODO\n",
    "    mean = np.mean(X, axis=1)   # axis=1: Since the label is transposed in 'learn_model' function, the mean and std need to be calculated based on each row\n",
    "    variance = np.std(X, axis=1)\n",
    "\n",
    "    return (mean, variance)"
   ]
  },
  {
   "cell_type": "code",
   "execution_count": 7,
   "metadata": {},
   "outputs": [],
   "source": [
    "def learn_model(dataset, labels, G=None):\n",
    "    \"\"\"\n",
    "    Input:\n",
    "     dataset: The data as loaded \n",
    "     labels:  The labels as loaded \n",
    "     \n",
    "    Output: the model\n",
    "     a (tentative) structure for the output model is:\n",
    "       model.class_priors: containing a vector with the prior estimations\n",
    "                           for each class\n",
    "       model.jointparts[i] contains the estimated parameters for the i-th joint\n",
    "\n",
    "            model.jointparts(i).means: a matrix of 3 x #classes with the\n",
    "                   estimated means for each of the x,y,z variables of the \n",
    "                   i-th joint and for each class.\n",
    "            model.jointparts(i).sigma: a matrix of 3 x #classes with the\n",
    "                   estimated stadard deviations for each of the x,y,z\n",
    "                   variables of the i-th joint and for each class.\n",
    "\n",
    "    \"\"\"\n",
    "\n",
    "    # TODO\n",
    "    # Initialization\n",
    "    class_label, class_count = np.unique(labels,return_counts=True)\n",
    "    N_class = len(class_label)\n",
    "    [N_joints, N_pos, N_ins] = dataset.shape\n",
    "    model = Model(N_class,N_joints)\n",
    "\n",
    "    # Set prior\n",
    "    class_name = [i for i in class_label]\n",
    "    for i, item in enumerate(class_name):\n",
    "        prior = class_count / len(labels)\n",
    "        model.class_priors[item] = prior[i]\n",
    "\n",
    "    # Set jointparts\n",
    "    for i in range(N_joints):  # [0,1,2,...,19]\n",
    "        joint_data = dataset[i,:,:].reshape(N_pos, N_ins)\n",
    "        for j in range(N_class):  # [0,1,2,3]\n",
    "            mask = (np.transpose(labels) == class_label[j])\n",
    "            mask = np.tile(mask, (N_pos,1))\n",
    "            class_data = joint_data[mask].reshape(N_pos,-1)\n",
    "            model.jointparts[i].means[:,j], model.jointparts[i].sigma[:,j] = fit_model(class_data)\n",
    "\n",
    "    return model"
   ]
  },
  {
   "cell_type": "code",
   "execution_count": 8,
   "metadata": {},
   "outputs": [],
   "source": [
    "def classify_samples(instances, model):\n",
    "    \"\"\"    \n",
    "    Input\n",
    "       instance: a 20x3x#instances matrix defining body positions of\n",
    "                 instances\n",
    "       model: as the output of learn_model\n",
    "\n",
    "    Output\n",
    "       probs: a matrix of #instances x #classes with the probability of each\n",
    "              instance of belonging to each of the classes\n",
    "\n",
    "    Important: to avoid underflow numerical issues this computations should\n",
    "               be performed in log space\n",
    "    \"\"\"\n",
    "    # TODO\n",
    "#     probs = likelihood * priors\n",
    "\n",
    "\n",
    "    # Initialization\n",
    "    prob_class = np.zeros((1,len(model.class_priors)))              # One instance's probability of 4 classes: [1,4]\n",
    "    probs = np.zeros((instances.shape[2],len(model.class_priors)))  # All instances' probability of 4 classes: [120,4]\n",
    "\n",
    "    # Compute the posterior probability for each instance belonging to each class\n",
    "    for instance_idx in range(instances.shape[2]):\n",
    "        instances_each = instances[:,:,instance_idx].reshape(instances.shape[0],instances.shape[1])\n",
    "        for class_idx in range(len(model.class_priors)):\n",
    "            prior_keys = list(model.class_priors.keys())\n",
    "            temp_sum = np.log(model.class_priors[prior_keys[class_idx]])\n",
    "            for joint_idx in range(len(model.jointparts)):\n",
    "                mu_class = model.jointparts[joint_idx].means[:,class_idx]\n",
    "                sigma_class = model.jointparts[joint_idx].sigma[:,class_idx]\n",
    "                temp_sum += sum(log_normpdf(instances_each[joint_idx,:], mu_class, sigma_class))\n",
    "            prob_class[:,class_idx] = temp_sum\n",
    "        probs[instance_idx,:] = prob_class\n",
    "\n",
    "\n",
    "    return probs\n"
   ]
  },
  {
   "cell_type": "markdown",
   "metadata": {},
   "source": [
    "# TEST PART"
   ]
  },
  {
   "cell_type": "markdown",
   "metadata": {},
   "source": [
    "## 1 learn model"
   ]
  },
  {
   "cell_type": "code",
   "execution_count": 9,
   "metadata": {},
   "outputs": [],
   "source": [
    "dd = scipy.io.loadmat('data/validation_data.mat')\n",
    "X = dd['data_small']\n",
    "Y = dd['labels_small']\n",
    "# the index for training set\n",
    "ind = dd['train_indexes']\n",
    "[trainInd,nouse] = np.where(ind==1)\n",
    "# get the training set with fixed index\n",
    "X_train = X[:,:,trainInd]\n",
    "y_train = Y[trainInd]\n",
    "# training/learning\n",
    "modelNB = learn_model(X_train, y_train)"
   ]
  },
  {
   "cell_type": "markdown",
   "metadata": {},
   "source": [
    "## 2 Classify"
   ]
  },
  {
   "cell_type": "code",
   "execution_count": 10,
   "metadata": {
    "pycharm": {
     "name": "#%%\n"
    }
   },
   "outputs": [
    {
     "name": "stdout",
     "output_type": "stream",
     "text": [
      "0.95\n"
     ]
    }
   ],
   "source": [
    "dd = scipy.io.loadmat('data/validation_data.mat')\n",
    "X = dd['data_small']\n",
    "Y = dd['labels_small']\n",
    "\n",
    "# get the test set index\n",
    "ind = dd['test_indexes']\n",
    "[testInd,nouse] = np.where(ind==1)\n",
    "# get the testing set with fixed index\n",
    "X_test = X[:,:,testInd]\n",
    "y_test = Y[testInd]\n",
    "# classify  \n",
    "y_rst = classify_samples(X_test, modelNB)\n",
    "# print(y_rst)\n",
    "labelpos = np.argmax(y_rst, axis = 1)\n",
    "\n",
    "# get the label of the each instance with probs\n",
    "classPriors = modelNB.class_priors\n",
    "whatlabel = list(classPriors.keys())\n",
    "y = classify_samples(X_test, modelNB)\n",
    "labelpos = np.argmax(y, axis = 1)\n",
    "rst = [whatlabel[labelpos[i]] for i in range(len(labelpos))]\n",
    "val = list(y_test.reshape(len(y_test),))\n",
    "print(cal_acc(rst,val))"
   ]
  }
 ],
 "metadata": {
  "kernelspec": {
   "display_name": "Python 3 (ipykernel)",
   "language": "python",
   "name": "python3"
  },
  "language_info": {
   "codemirror_mode": {
    "name": "ipython",
    "version": 3
   },
   "file_extension": ".py",
   "mimetype": "text/x-python",
   "name": "python",
   "nbconvert_exporter": "python",
   "pygments_lexer": "ipython3",
   "version": "3.7.11"
  }
 },
 "nbformat": 4,
 "nbformat_minor": 2
}